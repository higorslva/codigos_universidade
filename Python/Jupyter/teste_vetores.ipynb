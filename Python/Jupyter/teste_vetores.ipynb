{
 "cells": [
  {
   "cell_type": "markdown",
   "metadata": {},
   "source": [
    "# Inserindo as coordenadas dos vértices de um polígono regular "
   ]
  },
  {
   "cell_type": "code",
   "execution_count": 1,
   "metadata": {},
   "outputs": [
    {
     "name": "stdout",
     "output_type": "stream",
     "text": [
      "Insira o número de vértices do polígono\n",
      "OBS: O último vértice deve ser sempre igual ao primeiro  >> 5\n",
      "\n",
      "Insira os vértices do seu polígono\n",
      "x_0 =  1\n",
      "y_0 = 1\n",
      "x_1 =  2\n",
      "y_1 = 2\n",
      "x_2 =  3\n",
      "y_2 = 3\n",
      "x_3 =  4\n",
      "y_3 = 4\n",
      "x_4 =  5\n",
      "y_4 = 5\n",
      "x_5 =  6\n",
      "y_5 = 6\n",
      "\n",
      "\n",
      "[[1.0, 1.0], [2.0, 2.0], [3.0, 3.0], [4.0, 4.0], [5.0, 5.0], [6.0, 6.0]]\n",
      "[1.0, 2.0, 3.0, 4.0, 5.0, 6.0]\n",
      "[1.0, 2.0, 3.0, 4.0, 5.0, 6.0]\n"
     ]
    }
   ],
   "source": [
    "import matplotlib.pyplot as plt\n",
    "import numpy as np\n",
    "\n",
    "n = int(input('Insira o número de vértices do polígono\\nOBS: O último vértice deve ser sempre igual ao primeiro  >> ')) + 1\n",
    "vertices = []\n",
    "xvert = []\n",
    "yvert = []\n",
    "\n",
    "i = 0\n",
    "print('\\nInsira os vértices do seu polígono')\n",
    "\n",
    "for i in range(0, n):\n",
    "    vertices_novos = [float(input('x_{} =  '.format(i))), float(input('y_{} = '.format(i)))]\n",
    "    vertices.append(vertices_novos)\n",
    "    xvert_novos = vertices[i][0]\n",
    "    xvert.append(xvert_novos)\n",
    "    yvert_novos = vertices[i][1]\n",
    "    yvert.append(yvert_novos)\n",
    "print('\\n')\n",
    "print(vertices)\n",
    "print(xvert)\n",
    "print(yvert)\n"
   ]
  },
  {
   "cell_type": "markdown",
   "metadata": {},
   "source": [
    "# Imprimindo o conjunto de pontos e gerando o polígono"
   ]
  },
  {
   "cell_type": "code",
   "execution_count": 2,
   "metadata": {},
   "outputs": [
    {
     "data": {
      "image/png": "[encoded data removed]",
      "text/plain": [
       "<Figure size 900x600 with 1 Axes>"
      ]
     },
     "metadata": {
      "needs_background": "light"
     },
     "output_type": "display_data"
    }
   ],
   "source": [
    "plt.figure(dpi=150) # Configurando a resolução do gráfico\n",
    "plt.plot(xvert,yvert) # Configurando o eixo x e y do gráfico\n",
    "plt.savefig(\"teste5.png\") # Configurando a imagem a ser salva, assim como sua resolução\n",
    "plt.show()"
   ]
  },
  {
   "cell_type": "markdown",
   "metadata": {},
   "source": [
    "# Cálculo das propriedades geométricas do polígono"
   ]
  },
  {
   "cell_type": "markdown",
   "metadata": {},
   "source": [
    "## Área"
   ]
  },
  {
   "cell_type": "markdown",
   "metadata": {},
   "source": [
    "### A área de um polígono, em função de seus vértices, é dada pela soma de Gauss, que vem a ser: $$ \\displaystyle{A = \\dfrac{1}{2} \\sum_{n = 0}^{n - 1} [x_{i} \\cdot y_{i+1} - x_{i+1} \\cdot y_{i}]} $$"
   ]
  },
  {
   "cell_type": "code",
   "execution_count": 3,
   "metadata": {},
   "outputs": [
    {
     "name": "stdout",
     "output_type": "stream",
     "text": [
      "0.0\n"
     ]
    }
   ],
   "source": [
    "i = 0\n",
    "area = 0\n",
    "for i in range(0, n-1):\n",
    "    area_teste = 0.5 * (xvert[i]* yvert[i+1] - xvert[i+1] * yvert[i])\n",
    "    area = area + area_teste\n",
    "print(area)"
   ]
  },
  {
   "cell_type": "markdown",
   "metadata": {},
   "source": [
    "## CENTRÓIDE"
   ]
  },
  {
   "cell_type": "markdown",
   "metadata": {},
   "source": [
    "### As coordenadas do centróide de um polígono, em função de seus vértices, são obtidas através das seguintes relações\n",
    "\n",
    "$$ \\displaystyle{C_x = \\dfrac{1}{6A} \\sum_{n = 0}^{n - 1} [x_{i} \\cdot y_{i+1} - x_{i+1} \\cdot y_{i}] \\hspace{.1cm} [x_{i} + x_{i+1}]} $$\n",
    "\n",
    "$$  \\displaystyle{C_y = \\dfrac{1}{6A} \\sum_{n = 0}^{n - 1} [x_{i} \\cdot y_{i+1} - x_{i+1} \\cdot y_{i}] \\hspace{.1cm} [y_{i} + y_{i+1}]} $$ "
   ]
  },
  {
   "cell_type": "markdown",
   "metadata": {},
   "source": [
    "### $C_x$"
   ]
  },
  {
   "cell_type": "code",
   "execution_count": 29,
   "metadata": {},
   "outputs": [
    {
     "name": "stdout",
     "output_type": "stream",
     "text": [
      "7.5\n"
     ]
    }
   ],
   "source": [
    "i = 0\n",
    "cx= 0\n",
    "for i in range(0, n-1):\n",
    "    cx_teste = (xvert[i]* yvert[i+1] - xvert[i+1] * yvert[i]) * (xvert[i] + xvert[i+1] )\n",
    "    cx = cx + cx_teste\n",
    "Cx = (1/(6*area)) * (cx)\n",
    "print(Cx)"
   ]
  },
  {
   "cell_type": "markdown",
   "metadata": {},
   "source": [
    "### $C_y$"
   ]
  },
  {
   "cell_type": "code",
   "execution_count": 30,
   "metadata": {},
   "outputs": [
    {
     "name": "stdout",
     "output_type": "stream",
     "text": [
      "15.0\n"
     ]
    }
   ],
   "source": [
    "i = 0\n",
    "cy= 0\n",
    "for i in range(0, n-1):\n",
    "    cy_teste = (xvert[i]* yvert[i+1] - xvert[i+1] * yvert[i]) * (yvert[i] + yvert[i+1] )\n",
    "    cy = cy + cy_teste\n",
    "Cy = (1/(6*area)) * (cy)\n",
    "print(Cy)"
   ]
  },
  {
   "cell_type": "markdown",
   "metadata": {},
   "source": [
    "### MOMENTOS DE 1ª ORDEM EM RELAÇÃO AOS EIXOS ORDENADOS"
   ]
  },
  {
   "cell_type": "markdown",
   "metadata": {},
   "source": [
    "### São obtidos através das seguintes relações:\n",
    "\n",
    "$$ \\displaystyle{Q_x = A \\cdot C_y} $$\n",
    "\n",
    "$$ \\displaystyle{Q_y = A \\cdot C_x} $$"
   ]
  },
  {
   "cell_type": "code",
   "execution_count": 38,
   "metadata": {},
   "outputs": [
    {
     "name": "stdout",
     "output_type": "stream",
     "text": [
      "6750.0\n",
      "3375.0\n"
     ]
    }
   ],
   "source": [
    "Qx = area * Cy\n",
    "Qy = area * Cx\n",
    "print(Qx)\n",
    "print(Qy)"
   ]
  },
  {
   "cell_type": "markdown",
   "metadata": {},
   "source": [
    "### MOMENTOS DE 2ª ORDEM EM RELAÇÃO AOS EIXOS ORDENADOS"
   ]
  },
  {
   "cell_type": "markdown",
   "metadata": {},
   "source": [
    "### São obtidos através das seguintes relações:\n",
    "\n",
    "$$  \\displaystyle{I_x = \\dfrac{1}{12} \\sum_{n = 0}^{n - 1} [x_{i} \\cdot y_{i+1} - x_{i+1} \\cdot y_{i}] \\hspace{.1cm} [(y_{i})^2 + (y_{i} \\cdot y_{i+1}) +  (y_{i+1})^2]} $$ \n",
    "\n",
    "$$  \\displaystyle{I_y= \\dfrac{1}{12} \\sum_{n = 0}^{n - 1} [x_{i} \\cdot y_{i+1} - x_{i+1} \\cdot y_{i}] \\hspace{.1cm} [(x_{i})^2 + (x_{i} \\cdot x_{i+1}) +  (x_{i+1})^2]} $$ "
   ]
  },
  {
   "cell_type": "markdown",
   "metadata": {},
   "source": [
    "### $I_x$"
   ]
  },
  {
   "cell_type": "code",
   "execution_count": 41,
   "metadata": {},
   "outputs": [
    {
     "name": "stdout",
     "output_type": "stream",
     "text": [
      "135000.0\n"
     ]
    }
   ],
   "source": [
    "i = 0\n",
    "inx = 0\n",
    "for i in range(0, n-1):\n",
    "    inx_teste = (xvert[i]* yvert[i+1] - xvert[i+1] * yvert[i]) * ( (yvert[i]**2) + (yvert[i]* yvert[i+1]) + (yvert[i+1]**2) )\n",
    "    inx = inx + inx_teste\n",
    "Ix = (1/12) * (inx)\n",
    "print(Ix)"
   ]
  },
  {
   "cell_type": "markdown",
   "metadata": {},
   "source": [
    "### $I_y$"
   ]
  },
  {
   "cell_type": "code",
   "execution_count": 44,
   "metadata": {},
   "outputs": [
    {
     "name": "stdout",
     "output_type": "stream",
     "text": [
      "33750.0\n"
     ]
    }
   ],
   "source": [
    "i = 0\n",
    "iny = 0\n",
    "for i in range(0, n-1):\n",
    "    iny_teste = (xvert[i]* yvert[i+1] - xvert[i+1] * yvert[i]) * ( (xvert[i]**2) + (xvert[i]* xvert[i+1]) + (xvert[i+1]**2) )\n",
    "    iny = iny + iny_teste\n",
    "Iy = (1/12) * (iny)\n",
    "print(Iy)"
   ]
  },
  {
   "cell_type": "code",
   "execution_count": null,
   "metadata": {},
   "outputs": [],
   "source": [
    "a = \"MOMENTO DE ORDEM EM RELAÇÃO AOS EIXOS ORDENADOS\"\n",
    "a.lower()"
   ]
  },
  {
   "cell_type": "markdown",
   "metadata": {},
   "source": [
    "## MOMENTOS DE 2ª ORDEM EM RELAÇÃO AOS EIXOS CENTROIDAIS"
   ]
  },
  {
   "cell_type": "markdown",
   "metadata": {},
   "source": [
    "### São obtidos através das seguintes relações:\n",
    "\n",
    "$$  \\displaystyle{\\bar{I}_x = I_x - A \\cdot (C_y)^2} $$ \n",
    "\n",
    "$$  \\displaystyle{\\bar{I}_y = I_y - A \\cdot (C_x)^2} $$ "
   ]
  },
  {
   "cell_type": "code",
   "execution_count": null,
   "metadata": {},
   "outputs": [],
   "source": []
  }
 ],
 "metadata": {
  "kernelspec": {
   "display_name": "Python 3 (ipykernel)",
   "language": "python",
   "name": "python3"
  },
  "language_info": {
   "codemirror_mode": {
    "name": "ipython",
    "version": 3
   },
   "file_extension": ".py",
   "mimetype": "text/x-python",
   "name": "python",
   "nbconvert_exporter": "python",
   "pygments_lexer": "ipython3",
   "version": "3.10.5"
  }
 },
 "nbformat": 4,
 "nbformat_minor": 4
}
